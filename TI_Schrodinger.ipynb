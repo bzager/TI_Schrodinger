{
 "cells": [
  {
   "cell_type": "code",
   "execution_count": 12,
   "metadata": {
    "collapsed": false
   },
   "outputs": [],
   "source": [
    "# Time Independent Schrodinger Equation\n",
    "# Computational Physics Project 2\n",
    "\n",
    "import numpy as np\n",
    "import scipy as sp\n",
    "from scipy.integrate import odeint\n",
    "import matplotlib.pyplot as plt"
   ]
  },
  {
   "cell_type": "code",
   "execution_count": 31,
   "metadata": {
    "collapsed": false
   },
   "outputs": [],
   "source": [
    "L = 2 # length\n",
    "nx = 100 # number of grid points\n",
    "\n",
    "x = np.linspace(0,L,nx) # grid\n",
    "psi0 = 0; u0 = 1; # define initial conditions\n",
    "init = np.array([psi0,u0])\n",
    "E = 1\n",
    "\n",
    "# potential function\n",
    "def V(x):\n",
    "    if x==0:\n",
    "        return 1000\n",
    "    else:\n",
    "        return x\n",
    "    \n",
    "# psi update function\n",
    "def f(psi,u,x,E):\n",
    "    return u\n",
    "\n",
    "# u update function\n",
    "def g(psi,u,x,E):\n",
    "    return 2*(V(x)-E)*psi"
   ]
  },
  {
   "cell_type": "code",
   "execution_count": 37,
   "metadata": {
    "collapsed": false
   },
   "outputs": [],
   "source": [
    "def deriv(sol,x,E):\n",
    "    psi,u = sol\n",
    "    \n",
    "    dpsi = f(psi,u,x,E)\n",
    "    du = g(psi,u,x,E)\n",
    "    \n",
    "    return np.array([dpsi,du])\n",
    "\n",
    "def odeSolve(init,x,E):\n",
    "    \n",
    "    sol = odeint(deriv,init,x,args=(E,))\n",
    "    \n",
    "    return sol\n",
    "\n",
    "sol = odeSolve(init,x,E)\n",
    "psi = sol[:,0]; u = sol[:,1]"
   ]
  },
  {
   "cell_type": "code",
   "execution_count": 40,
   "metadata": {
    "collapsed": false
   },
   "outputs": [],
   "source": [
    "def rootHelper(init,x,E):\n",
    "    sol = odeint(deriv,init,x,args=(E,))\n",
    "    \n",
    "    return sol[-1,0]\n",
    "\n",
    "EMax = 10; nE = 100;\n",
    "energies = np.linspace(0,EMax,nE)\n",
    "psiE = np.zeros(nE)\n",
    "\n",
    "for i in range(nE):\n",
    "    psiE[i] = rootHelper(init,x,energies[i])\n",
    "    "
   ]
  },
  {
   "cell_type": "code",
   "execution_count": 41,
   "metadata": {
    "collapsed": false
   },
   "outputs": [
    {
     "data": {
      "image/png": "[encoded data removed]",
      "text/plain": [
       "<matplotlib.figure.Figure at 0x110766128>"
      ]
     },
     "metadata": {},
     "output_type": "display_data"
    }
   ],
   "source": [
    "plt.plot(energies,psiE)\n",
    "plt.xlabel(\"x\"); plt.ylabel(r\"$\\psi$\")\n",
    "plt.show()"
   ]
  },
  {
   "cell_type": "code",
   "execution_count": null,
   "metadata": {
    "collapsed": true
   },
   "outputs": [],
   "source": []
  }
 ],
 "metadata": {
  "kernelspec": {
   "display_name": "Python 3",
   "language": "python",
   "name": "python3"
  },
  "language_info": {
   "codemirror_mode": {
    "name": "ipython",
    "version": 3
   },
   "file_extension": ".py",
   "mimetype": "text/x-python",
   "name": "python",
   "nbconvert_exporter": "python",
   "pygments_lexer": "ipython3",
   "version": "3.6.0"
  }
 },
 "nbformat": 4,
 "nbformat_minor": 2
}
